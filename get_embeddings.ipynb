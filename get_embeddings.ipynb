{
  "metadata": {
    "colab": {
      "provenance": [],
      "collapsed_sections": [
        "O00GqPpeTaSj",
        "RIrmz8WOT4F8",
        "Uexu5PgxW7Ba",
        "VN7hkxSQXhVr",
        "DqkHDBhja9SD"
      ]
    },
    "kernelspec": {
      "name": "python3",
      "display_name": "Python 3",
      "language": "python"
    },
    "language_info": {
      "name": "python",
      "version": "3.10.10",
      "mimetype": "text/x-python",
      "codemirror_mode": {
        "name": "ipython",
        "version": 3
      },
      "pygments_lexer": "ipython3",
      "nbconvert_exporter": "python",
      "file_extension": ".py"
    },
    "accelerator": "GPU",
    "gpuClass": "standard"
  },
  "nbformat_minor": 0,
  "nbformat": 4,
  "cells": [
    {
      "cell_type": "markdown",
      "source": [
        "#0 Preparations"
      ],
      "metadata": {
        "id": "O00GqPpeTaSj"
      }
    },
    {
      "cell_type": "markdown",
      "source": [
        "Installing required packages\n"
      ],
      "metadata": {
        "id": "mgo7JksFRzu4"
      }
    },
    {
      "cell_type": "code",
      "source": [
        "!pip install psycopg2-binary==2.9.3"
      ],
      "metadata": {
        "execution": {
          "iopub.status.busy": "2023-05-15T00:33:07.547292Z",
          "iopub.execute_input": "2023-05-15T00:33:07.547664Z",
          "iopub.status.idle": "2023-05-15T00:33:18.783733Z",
          "shell.execute_reply.started": "2023-05-15T00:33:07.547627Z",
          "shell.execute_reply": "2023-05-15T00:33:18.782528Z"
        },
        "trusted": true,
        "id": "FVoUTWUhtLgh",
        "outputId": "16d8b452-1ca4-4032-8cc5-0aead994f17e"
      },
      "execution_count": null,
      "outputs": [
        {
          "name": "stdout",
          "text": "Requirement already satisfied: psycopg2-binary==2.9.3 in /opt/conda/lib/python3.10/site-packages (2.9.3)\n\u001b[33mWARNING: Running pip as the 'root' user can result in broken permissions and conflicting behaviour with the system package manager. It is recommended to use a virtual environment instead: https://pip.pypa.io/warnings/venv\u001b[0m\u001b[33m\n\u001b[0m",
          "output_type": "stream"
        }
      ]
    },
    {
      "cell_type": "markdown",
      "source": [
        "Import required packages"
      ],
      "metadata": {
        "id": "HdWrzoLzTGOB"
      }
    },
    {
      "cell_type": "code",
      "source": [
        "import pandas as pd\n",
        "import seaborn as sns\n",
        "import matplotlib.pyplot as plt\n",
        "import numpy as np\n",
        "import nltk\n",
        "import string\n",
        "import warnings\n",
        "import torch\n",
        "\n",
        "from catboost import CatBoostClassifier\n",
        "from sklearn.metrics import roc_auc_score, accuracy_score\n",
        "from sqlalchemy import create_engine\n",
        "from sqlalchemy import text\n",
        "\n",
        "from transformers import DataCollatorWithPadding\n",
        "from torch.utils.data import DataLoader\n",
        "from torch.utils.data import Dataset\n",
        "from tqdm import tqdm\n",
        "\n",
        "from transformers import AutoTokenizer\n",
        "from transformers import BertModel\n",
        "from transformers import RobertaModel\n",
        "from transformers import DistilBertModel"
      ],
      "metadata": {
        "id": "Bebj6Hfnaue5",
        "colab": {
          "base_uri": "https://localhost:8080/"
        },
        "outputId": "ddfefa80-768c-43e9-e0fc-4b957b71195e",
        "execution": {
          "iopub.status.busy": "2023-05-15T00:33:18.786121Z",
          "iopub.execute_input": "2023-05-15T00:33:18.786437Z",
          "iopub.status.idle": "2023-05-15T00:33:19.616766Z",
          "shell.execute_reply.started": "2023-05-15T00:33:18.786409Z",
          "shell.execute_reply": "2023-05-15T00:33:19.615742Z"
        },
        "trusted": true
      },
      "execution_count": null,
      "outputs": [
        {
          "name": "stderr",
          "text": "/opt/conda/lib/python3.10/site-packages/scipy/__init__.py:146: UserWarning: A NumPy version >=1.16.5 and <1.23.0 is required for this version of SciPy (detected version 1.23.5\n  warnings.warn(f\"A NumPy version >={np_minversion} and <{np_maxversion}\"\n",
          "output_type": "stream"
        }
      ]
    },
    {
      "cell_type": "markdown",
      "source": [
        "# 1 Connect to SQL DB and download data"
      ],
      "metadata": {
        "id": "RIrmz8WOT4F8"
      }
    },
    {
      "cell_type": "markdown",
      "source": [
        "Init function to load large amount of data from sql db"
      ],
      "metadata": {
        "id": "4e_YZpS6TQdf"
      }
    },
    {
      "cell_type": "code",
      "source": [
        "def batch_load_sql(query: str, engine) -> pd.DataFrame:\n",
        "    CHUNKSIZE = 200000\n",
        "    conn = engine.connect().execution_options(stream_results=True)\n",
        "    chunks = []\n",
        "    for chunk_dataframe in pd.read_sql(text(query), conn, chunksize=CHUNKSIZE):\n",
        "        chunks.append(chunk_dataframe)\n",
        "    conn.close()\n",
        "    return pd.concat(chunks, ignore_index=True)"
      ],
      "metadata": {
        "id": "BcYX8eBIvbcB",
        "execution": {
          "iopub.status.busy": "2023-05-15T00:33:19.618289Z",
          "iopub.execute_input": "2023-05-15T00:33:19.618645Z",
          "iopub.status.idle": "2023-05-15T00:33:19.626736Z",
          "shell.execute_reply.started": "2023-05-15T00:33:19.618611Z",
          "shell.execute_reply": "2023-05-15T00:33:19.624545Z"
        },
        "trusted": true
      },
      "execution_count": null,
      "outputs": []
    },
    {
      "cell_type": "markdown",
      "source": [
        "Create connection and download data from sql db"
      ],
      "metadata": {
        "id": "2MLjG6oKT9pP"
      }
    },
    {
      "cell_type": "code",
      "source": [
        "engine = create_engine(\n",
        "    \"postgresql://robot-startml-ro:pheiph0hahj1Vaif@\"\n",
        "    \"postgres.lab.karpov.courses:6432/startml\"\n",
        ")\n",
        "\n",
        "#user_data = batch_load_sql('SELECT * FROM public.user_data', engine=engine)\n",
        "\n",
        "post_text_df = batch_load_sql('SELECT * FROM public.post_text_df', engine=engine)\n",
        "\n",
        "feed_data = batch_load_sql('SELECT * FROM public.feed_data LIMIT 1000000', engine=engine)"
      ],
      "metadata": {
        "id": "L3k-qfVpa8wF",
        "execution": {
          "iopub.status.busy": "2023-05-15T00:33:19.630113Z",
          "iopub.execute_input": "2023-05-15T00:33:19.630520Z",
          "iopub.status.idle": "2023-05-15T00:33:43.050300Z",
          "shell.execute_reply.started": "2023-05-15T00:33:19.630486Z",
          "shell.execute_reply": "2023-05-15T00:33:43.049258Z"
        },
        "trusted": true
      },
      "execution_count": null,
      "outputs": []
    },
    {
      "cell_type": "markdown",
      "source": [
        "# 2 Prepare user_data dataframe"
      ],
      "metadata": {
        "id": "Uexu5PgxW7Ba"
      }
    },
    {
      "cell_type": "code",
      "source": [
        "user_data = batch_load_sql(\"SELECT * FROM public.a_cherepaschuk_user_features_v2_lesson_22\", engine=engine)"
      ],
      "metadata": {
        "id": "VQMaHPoBs70h",
        "execution": {
          "iopub.status.busy": "2023-05-15T00:33:43.051757Z",
          "iopub.execute_input": "2023-05-15T00:33:43.052131Z",
          "iopub.status.idle": "2023-05-15T00:33:50.956026Z",
          "shell.execute_reply.started": "2023-05-15T00:33:43.052097Z",
          "shell.execute_reply": "2023-05-15T00:33:50.954768Z"
        },
        "trusted": true
      },
      "execution_count": null,
      "outputs": []
    },
    {
      "cell_type": "code",
      "source": [
        "user_data = user_data.drop('index', axis=1)"
      ],
      "metadata": {
        "execution": {
          "iopub.status.busy": "2023-05-15T00:33:50.958645Z",
          "iopub.execute_input": "2023-05-15T00:33:50.959046Z",
          "iopub.status.idle": "2023-05-15T00:33:51.040682Z",
          "shell.execute_reply.started": "2023-05-15T00:33:50.959010Z",
          "shell.execute_reply": "2023-05-15T00:33:51.034954Z"
        },
        "trusted": true,
        "id": "LajdOV5ctLgk"
      },
      "execution_count": null,
      "outputs": []
    },
    {
      "cell_type": "code",
      "source": [
        "post_text_df"
      ],
      "metadata": {
        "execution": {
          "iopub.status.busy": "2023-05-15T00:33:51.045747Z",
          "iopub.execute_input": "2023-05-15T00:33:51.049596Z",
          "iopub.status.idle": "2023-05-15T00:33:51.078900Z",
          "shell.execute_reply.started": "2023-05-15T00:33:51.049545Z",
          "shell.execute_reply": "2023-05-15T00:33:51.072856Z"
        },
        "trusted": true,
        "id": "PqPbLoJItLgk",
        "outputId": "f6e831fe-2b2e-402b-b0d4-945410744388"
      },
      "execution_count": null,
      "outputs": [
        {
          "execution_count": 7,
          "output_type": "execute_result",
          "data": {
            "text/plain": "      post_id                                               text     topic\n0           1  UK economy facing major risks\\n\\nThe UK manufa...  business\n1           2  Aids and climate top Davos agenda\\n\\nClimate c...  business\n2           3  Asian quake hits European shares\\n\\nShares in ...  business\n3           4  India power shares jump on debut\\n\\nShares in ...  business\n4           5  Lacroix label bought by US firm\\n\\nLuxury good...  business\n...       ...                                                ...       ...\n7018     7315  OK, I would not normally watch a Farrelly brot...     movie\n7019     7316  I give this movie 2 stars purely because of it...     movie\n7020     7317  I cant believe this film was allowed to be mad...     movie\n7021     7318  The version I saw of this film was the Blockbu...     movie\n7022     7319  Piece of subtle art. Maybe a masterpiece. Doub...     movie\n\n[7023 rows x 3 columns]",
            "text/html": "<div>\n<style scoped>\n    .dataframe tbody tr th:only-of-type {\n        vertical-align: middle;\n    }\n\n    .dataframe tbody tr th {\n        vertical-align: top;\n    }\n\n    .dataframe thead th {\n        text-align: right;\n    }\n</style>\n<table border=\"1\" class=\"dataframe\">\n  <thead>\n    <tr style=\"text-align: right;\">\n      <th></th>\n      <th>post_id</th>\n      <th>text</th>\n      <th>topic</th>\n    </tr>\n  </thead>\n  <tbody>\n    <tr>\n      <th>0</th>\n      <td>1</td>\n      <td>UK economy facing major risks\\n\\nThe UK manufa...</td>\n      <td>business</td>\n    </tr>\n    <tr>\n      <th>1</th>\n      <td>2</td>\n      <td>Aids and climate top Davos agenda\\n\\nClimate c...</td>\n      <td>business</td>\n    </tr>\n    <tr>\n      <th>2</th>\n      <td>3</td>\n      <td>Asian quake hits European shares\\n\\nShares in ...</td>\n      <td>business</td>\n    </tr>\n    <tr>\n      <th>3</th>\n      <td>4</td>\n      <td>India power shares jump on debut\\n\\nShares in ...</td>\n      <td>business</td>\n    </tr>\n    <tr>\n      <th>4</th>\n      <td>5</td>\n      <td>Lacroix label bought by US firm\\n\\nLuxury good...</td>\n      <td>business</td>\n    </tr>\n    <tr>\n      <th>...</th>\n      <td>...</td>\n      <td>...</td>\n      <td>...</td>\n    </tr>\n    <tr>\n      <th>7018</th>\n      <td>7315</td>\n      <td>OK, I would not normally watch a Farrelly brot...</td>\n      <td>movie</td>\n    </tr>\n    <tr>\n      <th>7019</th>\n      <td>7316</td>\n      <td>I give this movie 2 stars purely because of it...</td>\n      <td>movie</td>\n    </tr>\n    <tr>\n      <th>7020</th>\n      <td>7317</td>\n      <td>I cant believe this film was allowed to be mad...</td>\n      <td>movie</td>\n    </tr>\n    <tr>\n      <th>7021</th>\n      <td>7318</td>\n      <td>The version I saw of this film was the Blockbu...</td>\n      <td>movie</td>\n    </tr>\n    <tr>\n      <th>7022</th>\n      <td>7319</td>\n      <td>Piece of subtle art. Maybe a masterpiece. Doub...</td>\n      <td>movie</td>\n    </tr>\n  </tbody>\n</table>\n<p>7023 rows × 3 columns</p>\n</div>"
          },
          "metadata": {}
        }
      ]
    },
    {
      "cell_type": "code",
      "source": [
        "def get_model(model_name):\n",
        "    assert model_name in ['bert', 'roberta', 'distilbert']\n",
        "\n",
        "    checkpoint_names = {\n",
        "        'bert': 'bert-base-cased',  # https://huggingface.co/bert-base-cased\n",
        "        'roberta': 'roberta-base',  # https://huggingface.co/roberta-base\n",
        "        'distilbert': 'distilbert-base-cased'  # https://huggingface.co/distilbert-base-cased\n",
        "    }\n",
        "\n",
        "    model_classes = {\n",
        "        'bert': BertModel,\n",
        "        'roberta': RobertaModel,\n",
        "        'distilbert': DistilBertModel\n",
        "    }\n",
        "\n",
        "    return AutoTokenizer.from_pretrained(checkpoint_names[model_name]), model_classes[model_name].from_pretrained(checkpoint_names[model_name])"
      ],
      "metadata": {
        "execution": {
          "iopub.status.busy": "2023-05-15T00:33:51.080122Z",
          "iopub.execute_input": "2023-05-15T00:33:51.080498Z",
          "iopub.status.idle": "2023-05-15T00:33:55.982316Z",
          "shell.execute_reply.started": "2023-05-15T00:33:51.080463Z",
          "shell.execute_reply": "2023-05-15T00:33:55.981350Z"
        },
        "trusted": true,
        "id": "TK7Qtpq2tLgl"
      },
      "execution_count": null,
      "outputs": []
    },
    {
      "cell_type": "code",
      "source": [
        "tokenizer, model = get_model('distilbert')"
      ],
      "metadata": {
        "execution": {
          "iopub.status.busy": "2023-05-15T00:33:55.983563Z",
          "iopub.execute_input": "2023-05-15T00:33:55.983921Z",
          "iopub.status.idle": "2023-05-15T00:33:57.066441Z",
          "shell.execute_reply.started": "2023-05-15T00:33:55.983889Z",
          "shell.execute_reply": "2023-05-15T00:33:57.065523Z"
        },
        "trusted": true,
        "id": "WZ_KlLZntLgl",
        "outputId": "8e85ae31-3362-4f77-d876-44123af54718"
      },
      "execution_count": null,
      "outputs": [
        {
          "name": "stderr",
          "text": "Some weights of the model checkpoint at distilbert-base-cased were not used when initializing DistilBertModel: ['vocab_projector.bias', 'vocab_layer_norm.bias', 'vocab_layer_norm.weight', 'vocab_transform.weight', 'vocab_projector.weight', 'vocab_transform.bias']\n- This IS expected if you are initializing DistilBertModel from the checkpoint of a model trained on another task or with another architecture (e.g. initializing a BertForSequenceClassification model from a BertForPreTraining model).\n- This IS NOT expected if you are initializing DistilBertModel from the checkpoint of a model that you expect to be exactly identical (initializing a BertForSequenceClassification model from a BertForSequenceClassification model).\n",
          "output_type": "stream"
        }
      ]
    },
    {
      "cell_type": "code",
      "source": [
        "device = torch.device('cuda:0' if torch.cuda.is_available() else 'cpu')\n",
        "\n",
        "print(device)\n",
        "print(torch.cuda.get_device_name())"
      ],
      "metadata": {
        "execution": {
          "iopub.status.busy": "2023-05-15T00:33:57.077745Z",
          "iopub.execute_input": "2023-05-15T00:33:57.078255Z",
          "iopub.status.idle": "2023-05-15T00:33:57.173484Z",
          "shell.execute_reply.started": "2023-05-15T00:33:57.078221Z",
          "shell.execute_reply": "2023-05-15T00:33:57.172386Z"
        },
        "trusted": true,
        "id": "ulB9W9kDtLgl",
        "outputId": "cf23f159-3bdb-4523-ecb4-d13dc891b6d7"
      },
      "execution_count": null,
      "outputs": [
        {
          "name": "stdout",
          "text": "cuda:0\nTesla T4\n",
          "output_type": "stream"
        }
      ]
    },
    {
      "cell_type": "code",
      "source": [
        "model = model.to(device)"
      ],
      "metadata": {
        "execution": {
          "iopub.status.busy": "2023-05-15T00:33:57.174948Z",
          "iopub.execute_input": "2023-05-15T00:33:57.175300Z",
          "iopub.status.idle": "2023-05-15T00:34:00.175576Z",
          "shell.execute_reply.started": "2023-05-15T00:33:57.175267Z",
          "shell.execute_reply": "2023-05-15T00:34:00.174569Z"
        },
        "trusted": true,
        "id": "6QY4ekymtLgl"
      },
      "execution_count": null,
      "outputs": []
    },
    {
      "cell_type": "code",
      "source": [
        "class Posts(Dataset):\n",
        "    def __init__(self, texts, tokenizer):\n",
        "        super().__init__()\n",
        "\n",
        "        self.texts = tokenizer.batch_encode_plus(\n",
        "            texts,\n",
        "            add_special_tokens=True,\n",
        "            return_token_type_ids=False,\n",
        "            truncation=True\n",
        "        )\n",
        "        self.tokenizer = tokenizer\n",
        "\n",
        "    def __getitem__(self, idx):\n",
        "        return {'input_ids': self.texts['input_ids'][idx], 'attention_mask': self.texts['attention_mask'][idx]}\n",
        "\n",
        "    def __len__(self):\n",
        "        return len(self.texts['input_ids'])"
      ],
      "metadata": {
        "execution": {
          "iopub.status.busy": "2023-05-15T00:34:00.177106Z",
          "iopub.execute_input": "2023-05-15T00:34:00.177462Z",
          "iopub.status.idle": "2023-05-15T00:34:00.185120Z",
          "shell.execute_reply.started": "2023-05-15T00:34:00.177430Z",
          "shell.execute_reply": "2023-05-15T00:34:00.183754Z"
        },
        "trusted": true,
        "id": "C8uMOxZ7tLgm"
      },
      "execution_count": null,
      "outputs": []
    },
    {
      "cell_type": "code",
      "source": [
        "posts = Posts(post_text_df['text'].values.tolist(), tokenizer)"
      ],
      "metadata": {
        "execution": {
          "iopub.status.busy": "2023-05-15T00:34:00.186309Z",
          "iopub.execute_input": "2023-05-15T00:34:00.187785Z",
          "iopub.status.idle": "2023-05-15T00:34:04.746839Z",
          "shell.execute_reply.started": "2023-05-15T00:34:00.187701Z",
          "shell.execute_reply": "2023-05-15T00:34:04.745868Z"
        },
        "trusted": true,
        "id": "V64cAmsvtLgm"
      },
      "execution_count": null,
      "outputs": []
    },
    {
      "cell_type": "code",
      "source": [
        "data_collator = DataCollatorWithPadding(tokenizer=tokenizer)"
      ],
      "metadata": {
        "execution": {
          "iopub.status.busy": "2023-05-15T00:34:04.748262Z",
          "iopub.execute_input": "2023-05-15T00:34:04.748651Z",
          "iopub.status.idle": "2023-05-15T00:34:04.766499Z",
          "shell.execute_reply.started": "2023-05-15T00:34:04.748616Z",
          "shell.execute_reply": "2023-05-15T00:34:04.765673Z"
        },
        "trusted": true,
        "id": "Nq0ld9njtLgm"
      },
      "execution_count": null,
      "outputs": []
    },
    {
      "cell_type": "code",
      "source": [
        "loader = DataLoader(posts, batch_size=32, collate_fn=data_collator, pin_memory=True, shuffle=False)"
      ],
      "metadata": {
        "execution": {
          "iopub.status.busy": "2023-05-15T00:34:04.767749Z",
          "iopub.execute_input": "2023-05-15T00:34:04.768199Z",
          "iopub.status.idle": "2023-05-15T00:34:04.773515Z",
          "shell.execute_reply.started": "2023-05-15T00:34:04.768164Z",
          "shell.execute_reply": "2023-05-15T00:34:04.772550Z"
        },
        "trusted": true,
        "id": "c1nX9U88tLgm"
      },
      "execution_count": null,
      "outputs": []
    },
    {
      "cell_type": "code",
      "source": [
        "@torch.inference_mode()\n",
        "def get_embeddings_labels(model, loader):\n",
        "    model.eval()\n",
        "\n",
        "    total_embeddings = []\n",
        "\n",
        "    for batch in tqdm(loader):\n",
        "\n",
        "        batch = {key: batch[key].to(device) for key in ['attention_mask', 'input_ids']}\n",
        "\n",
        "        embeddings = model(**batch)['last_hidden_state'][:, 0, :]\n",
        "\n",
        "        total_embeddings.append(embeddings.cpu())\n",
        "\n",
        "    return torch.cat(total_embeddings, dim=0)"
      ],
      "metadata": {
        "execution": {
          "iopub.status.busy": "2023-05-15T00:34:27.475846Z",
          "iopub.execute_input": "2023-05-15T00:34:27.476926Z",
          "iopub.status.idle": "2023-05-15T00:34:27.484346Z",
          "shell.execute_reply.started": "2023-05-15T00:34:27.476883Z",
          "shell.execute_reply": "2023-05-15T00:34:27.482680Z"
        },
        "trusted": true,
        "id": "SgZ6jXpltLgm"
      },
      "execution_count": null,
      "outputs": []
    },
    {
      "cell_type": "code",
      "source": [
        "embeddings = get_embeddings_labels(model, loader)"
      ],
      "metadata": {
        "execution": {
          "iopub.status.busy": "2023-05-15T00:34:31.800660Z",
          "iopub.execute_input": "2023-05-15T00:34:31.801596Z",
          "iopub.status.idle": "2023-05-15T00:36:17.470933Z",
          "shell.execute_reply.started": "2023-05-15T00:34:31.801561Z",
          "shell.execute_reply": "2023-05-15T00:36:17.469728Z"
        },
        "trusted": true,
        "id": "r12465q4tLgm",
        "outputId": "81119656-b17a-46e1-dd75-81163a8f9908"
      },
      "execution_count": null,
      "outputs": [
        {
          "name": "stderr",
          "text": "  0%|          | 0/220 [00:00<?, ?it/s]You're using a DistilBertTokenizerFast tokenizer. Please note that with a fast tokenizer, using the `__call__` method is faster than using a method to encode the text followed by a call to the `pad` method to get a padded encoding.\n100%|██████████| 220/220 [01:45<00:00,  2.08it/s]\n",
          "output_type": "stream"
        }
      ]
    },
    {
      "cell_type": "code",
      "source": [
        "embeddings.to(dtype=torch.float32)"
      ],
      "metadata": {
        "execution": {
          "iopub.status.busy": "2023-05-15T00:37:55.298526Z",
          "iopub.execute_input": "2023-05-15T00:37:55.299198Z",
          "iopub.status.idle": "2023-05-15T00:37:55.315659Z",
          "shell.execute_reply.started": "2023-05-15T00:37:55.299158Z",
          "shell.execute_reply": "2023-05-15T00:37:55.314703Z"
        },
        "trusted": true,
        "id": "McB6LYiatLgn",
        "outputId": "fa64fd8f-1d26-4f4f-9cc6-968d33a60fb0"
      },
      "execution_count": null,
      "outputs": [
        {
          "execution_count": 26,
          "output_type": "execute_result",
          "data": {
            "text/plain": "tensor([[ 3.6315e-01,  4.8938e-02, -2.6408e-01,  ..., -1.4159e-01,\n          1.5918e-02,  9.1769e-05],\n        [ 2.3642e-01, -1.5950e-01, -3.2780e-01,  ..., -2.8994e-01,\n          1.1937e-01, -1.6234e-03],\n        [ 3.7519e-01, -1.1394e-01, -2.4055e-01,  ..., -3.3892e-01,\n          5.8694e-02, -2.1266e-02],\n        ...,\n        [ 3.4038e-01,  6.6492e-02, -1.6318e-01,  ..., -8.6563e-02,\n          2.0340e-01,  3.2091e-02],\n        [ 4.3209e-01,  1.1092e-02, -1.1731e-01,  ...,  7.5401e-02,\n          1.0274e-01,  1.5274e-02],\n        [ 3.0428e-01, -7.6216e-02, -6.7759e-02,  ..., -5.4349e-02,\n          2.4438e-01, -1.4148e-02]])"
          },
          "metadata": {}
        }
      ]
    }
  ]
}